{
 "cells": [
  {
   "cell_type": "code",
   "execution_count": 3,
   "id": "892fb010",
   "metadata": {},
   "outputs": [
    {
     "data": {
      "text/plain": [
       "'1.8.4'"
      ]
     },
     "execution_count": 3,
     "metadata": {},
     "output_type": "execute_result"
    }
   ],
   "source": [
    "import dvc\n",
    "dvc.__version__"
   ]
  },
  {
   "cell_type": "code",
   "execution_count": 4,
   "id": "cb11d185",
   "metadata": {},
   "outputs": [
    {
     "name": "stdout",
     "output_type": "stream",
     "text": [
      "Switched to a new branch 'experiments'\r\n"
     ]
    }
   ],
   "source": [
    "!git checkout -b experiments"
   ]
  },
  {
   "cell_type": "code",
   "execution_count": null,
   "id": "af59a750",
   "metadata": {},
   "outputs": [],
   "source": []
  },
  {
   "cell_type": "markdown",
   "id": "cd08a27e",
   "metadata": {},
   "source": [
    "#### initialize DVC\n",
    "- reference https://dvc.org/doc/get-started/initialize"
   ]
  },
  {
   "cell_type": "code",
   "execution_count": 5,
   "id": "b9552d63",
   "metadata": {},
   "outputs": [
    {
     "name": "stdout",
     "output_type": "stream",
     "text": [
      "\n",
      "You can now commit the changes to git.\n",
      "\n",
      "+---------------------------------------------------------------------+\n",
      "|                                                                     |\n",
      "|        DVC has enabled anonymous aggregate usage analytics.         |\n",
      "|     Read the analytics documentation (and how to opt-out) here:     |\n",
      "|             <https://dvc.org/doc/user-guide/analytics>              |\n",
      "|                                                                     |\n",
      "+---------------------------------------------------------------------+\n",
      "\n",
      "What's next?\n",
      "------------\n",
      "- Check out the documentation: <https://dvc.org/doc>\n",
      "- Get help and share ideas: <https://dvc.org/chat>\n",
      "- Star us on GitHub: <https://github.com/iterative/dvc>\n"
     ]
    }
   ],
   "source": [
    "!dvc init"
   ]
  },
  {
   "cell_type": "markdown",
   "id": "33bf197b",
   "metadata": {},
   "source": [
    "#### commit changes"
   ]
  },
  {
   "cell_type": "code",
   "execution_count": 6,
   "id": "02d4bb2f",
   "metadata": {},
   "outputs": [
    {
     "name": "stdout",
     "output_type": "stream",
     "text": [
      "[experiments 4aa6ecf] initialize dvc\n",
      " 9 files changed, 1743 insertions(+)\n",
      " create mode 100644 .dvc/.gitignore\n",
      " create mode 100644 .dvc/config\n",
      " create mode 100644 .dvc/plots/confusion.json\n",
      " create mode 100644 .dvc/plots/default.json\n",
      " create mode 100644 .dvc/plots/scatter.json\n",
      " create mode 100644 .dvc/plots/smooth.json\n",
      " create mode 100644 .dvcignore\n",
      " create mode 100644 dvc-1-from-scratch.ipynb\n",
      " create mode 100644 dvc-1-get-started-reserve.ipynb\n"
     ]
    }
   ],
   "source": [
    "%%bash\n",
    "\n",
    "git add .\n",
    "git commit -m \"initialize dvc\""
   ]
  },
  {
   "cell_type": "markdown",
   "id": "7685e028",
   "metadata": {},
   "source": [
    "#### Review files and directories created by DVC"
   ]
  },
  {
   "cell_type": "code",
   "execution_count": 7,
   "id": "1ae80c45",
   "metadata": {},
   "outputs": [
    {
     "name": "stdout",
     "output_type": "stream",
     "text": [
      ".          ..         .gitignore config     plots      tmp\n"
     ]
    }
   ],
   "source": [
    "! ls -a .dvc"
   ]
  },
  {
   "cell_type": "code",
   "execution_count": 8,
   "id": "2e6405bf",
   "metadata": {},
   "outputs": [
    {
     "name": "stdout",
     "output_type": "stream",
     "text": [
      "/config.local\r\n",
      "/tmp\r\n",
      "/cache\r\n"
     ]
    }
   ],
   "source": [
    "!cat .dvc/.gitignore"
   ]
  },
  {
   "cell_type": "markdown",
   "id": "72b41dfa",
   "metadata": {},
   "source": [
    "## Quick tour of DVC features\n",
    "#### Data vesioning"
   ]
  },
  {
   "cell_type": "code",
   "execution_count": 9,
   "id": "4e06a1a9",
   "metadata": {},
   "outputs": [],
   "source": [
    "# get data\n",
    "import pandas as pd\n",
    "from sklearn.datasets import load_iris\n",
    "\n",
    "data = load_iris(as_frame=True)\n",
    "list(data.target_names)\n",
    "data.frame.to_csv(\"data/iris.csv\", index=False)"
   ]
  },
  {
   "cell_type": "code",
   "execution_count": 10,
   "id": "94212cf7",
   "metadata": {},
   "outputs": [
    {
     "data": {
      "text/html": [
       "<div>\n",
       "<style scoped>\n",
       "    .dataframe tbody tr th:only-of-type {\n",
       "        vertical-align: middle;\n",
       "    }\n",
       "\n",
       "    .dataframe tbody tr th {\n",
       "        vertical-align: top;\n",
       "    }\n",
       "\n",
       "    .dataframe thead th {\n",
       "        text-align: right;\n",
       "    }\n",
       "</style>\n",
       "<table border=\"1\" class=\"dataframe\">\n",
       "  <thead>\n",
       "    <tr style=\"text-align: right;\">\n",
       "      <th></th>\n",
       "      <th>sepal length (cm)</th>\n",
       "      <th>sepal width (cm)</th>\n",
       "      <th>petal length (cm)</th>\n",
       "      <th>petal width (cm)</th>\n",
       "      <th>target</th>\n",
       "    </tr>\n",
       "  </thead>\n",
       "  <tbody>\n",
       "    <tr>\n",
       "      <th>0</th>\n",
       "      <td>5.1</td>\n",
       "      <td>3.5</td>\n",
       "      <td>1.4</td>\n",
       "      <td>0.2</td>\n",
       "      <td>0</td>\n",
       "    </tr>\n",
       "    <tr>\n",
       "      <th>1</th>\n",
       "      <td>4.9</td>\n",
       "      <td>3.0</td>\n",
       "      <td>1.4</td>\n",
       "      <td>0.2</td>\n",
       "      <td>0</td>\n",
       "    </tr>\n",
       "    <tr>\n",
       "      <th>2</th>\n",
       "      <td>4.7</td>\n",
       "      <td>3.2</td>\n",
       "      <td>1.3</td>\n",
       "      <td>0.2</td>\n",
       "      <td>0</td>\n",
       "    </tr>\n",
       "    <tr>\n",
       "      <th>3</th>\n",
       "      <td>4.6</td>\n",
       "      <td>3.1</td>\n",
       "      <td>1.5</td>\n",
       "      <td>0.2</td>\n",
       "      <td>0</td>\n",
       "    </tr>\n",
       "    <tr>\n",
       "      <th>4</th>\n",
       "      <td>5.0</td>\n",
       "      <td>3.6</td>\n",
       "      <td>1.4</td>\n",
       "      <td>0.2</td>\n",
       "      <td>0</td>\n",
       "    </tr>\n",
       "  </tbody>\n",
       "</table>\n",
       "</div>"
      ],
      "text/plain": [
       "   sepal length (cm)  sepal width (cm)  petal length (cm)  petal width (cm)  \\\n",
       "0                5.1               3.5                1.4               0.2   \n",
       "1                4.9               3.0                1.4               0.2   \n",
       "2                4.7               3.2                1.3               0.2   \n",
       "3                4.6               3.1                1.5               0.2   \n",
       "4                5.0               3.6                1.4               0.2   \n",
       "\n",
       "   target  \n",
       "0       0  \n",
       "1       0  \n",
       "2       0  \n",
       "3       0  \n",
       "4       0  "
      ]
     },
     "execution_count": 10,
     "metadata": {},
     "output_type": "execute_result"
    }
   ],
   "source": [
    "# look on data\n",
    "data.frame.head()"
   ]
  },
  {
   "cell_type": "code",
   "execution_count": 11,
   "id": "73d75155",
   "metadata": {},
   "outputs": [
    {
     "name": "stdout",
     "output_type": "stream",
     "text": [
      "4.0K\tdata/iris.csv\r\n"
     ]
    }
   ],
   "source": [
    "! du -sh data/*"
   ]
  },
  {
   "cell_type": "markdown",
   "id": "6676f971",
   "metadata": {},
   "source": [
    "#### Add file inder DVC control"
   ]
  },
  {
   "cell_type": "code",
   "execution_count": 13,
   "id": "5dac4be7",
   "metadata": {},
   "outputs": [
    {
     "name": "stdout",
     "output_type": "stream",
     "text": [
      "100% Add|██████████████████████████████████████████████|1/1 [00:03,  3.07s/file]\n",
      "\n",
      "To track the changes with git, run:\n",
      "\n",
      "\tgit add data/iris.csv.dvc\n"
     ]
    }
   ],
   "source": [
    "!dvc add data/iris.csv"
   ]
  },
  {
   "cell_type": "code",
   "execution_count": 14,
   "id": "f16f6646",
   "metadata": {},
   "outputs": [
    {
     "name": "stdout",
     "output_type": "stream",
     "text": [
      "4.0K\tdata/iris.csv\r\n",
      "4.0K\tdata/iris.csv.dvc\r\n"
     ]
    }
   ],
   "source": [
    "!du -sh data/*"
   ]
  },
  {
   "cell_type": "code",
   "execution_count": 15,
   "id": "96addbd5",
   "metadata": {},
   "outputs": [],
   "source": [
    "!git status -s data/"
   ]
  },
  {
   "cell_type": "code",
   "execution_count": 16,
   "id": "9768a032",
   "metadata": {},
   "outputs": [
    {
     "name": "stdout",
     "output_type": "stream",
     "text": [
      "[experiments 6f8d7f4] add a source dataset\n",
      " 1 file changed, 287 insertions(+), 9 deletions(-)\n"
     ]
    }
   ],
   "source": [
    "%%bash\n",
    "\n",
    "git add .\n",
    "git commit -m \"add a source dataset\""
   ]
  },
  {
   "cell_type": "markdown",
   "id": "20552851",
   "metadata": {},
   "source": [
    "#### What is DVC file ?\n",
    "\n",
    "Data file internals\n",
    "\n",
    "If you take a look at the DVC-file, you will see that only outputs are defined in outs. In this file, only one output is defined. The output contains the data file path in the repository and md5 cache. This md5 cache determines a location of the actual content file in DVC cache directory .dvc/cache\n",
    "\n",
    "Output from DVC-files defines the relationship between the data file path in a repository and the path in a cache directory. See also DVC File Format\n",
    "\n",
    "(c) dvc.org https://dvc.org/doc/tutorial/define-ml-pipeline"
   ]
  },
  {
   "cell_type": "code",
   "execution_count": 19,
   "id": "df7c339f",
   "metadata": {},
   "outputs": [
    {
     "name": "stdout",
     "output_type": "stream",
     "text": [
      "iris.csv\n",
      "iris.csv.dvc\n",
      "outs:\n",
      "- md5: 4d301abed5efe50eccda350cde38e0eb\n",
      "  path: iris.csv\n"
     ]
    }
   ],
   "source": [
    "%%bash\n",
    "\n",
    "ls data\n",
    "cat data/iris.csv.dvc"
   ]
  },
  {
   "cell_type": "markdown",
   "id": "beb51ae9",
   "metadata": {},
   "source": [
    "#### Create and reproduce ML pipelines\n",
    "Stages\n",
    "- extract features\n",
    "- split dataset\n",
    "- train\n",
    "- evaluate\n",
    "\n",
    "#### add a pipeline stage with dvc run"
   ]
  },
  {
   "cell_type": "code",
   "execution_count": 20,
   "id": "4c3f479e",
   "metadata": {},
   "outputs": [
    {
     "name": "stdout",
     "output_type": "stream",
     "text": [
      "Running stage 'feature-extraction' with command:\n",
      "\tpython src/featurization.py\n",
      "Creating 'dvc.yaml'\n",
      "Adding stage 'feature-extraction' in 'dvc.yaml'\n",
      "Generating lock file 'dvc.lock'\n",
      "Updating lock file 'dvc.lock'\n",
      "\n",
      "To track the changes with git, run:\n",
      "\n",
      "\tgit add dvc.yaml dvc.lock\n"
     ]
    }
   ],
   "source": [
    "%%bash\n",
    "\n",
    "dvc run -n feature-extraction \\\n",
    "    -d src/featurization.py \\\n",
    "    -d data/iris.csv \\\n",
    "    -o data/iris_featurized.csv \\\n",
    "    python src/featurization.py"
   ]
  },
  {
   "cell_type": "code",
   "execution_count": 21,
   "id": "18f4cc75",
   "metadata": {},
   "outputs": [
    {
     "name": "stdout",
     "output_type": "stream",
     "text": [
      "README.md                       dvc-venv\n",
      "data                            dvc.lock\n",
      "dvc-1-from-scratch.ipynb        dvc.yaml\n",
      "dvc-1-get-started-reserve.ipynb requirements.txt\n",
      "dvc-1-get-started.ipynb         src\n"
     ]
    }
   ],
   "source": [
    "!ls"
   ]
  },
  {
   "cell_type": "code",
   "execution_count": 22,
   "id": "27aecf5f",
   "metadata": {},
   "outputs": [
    {
     "name": "stdout",
     "output_type": "stream",
     "text": [
      "stages:\r\n",
      "  feature-extraction:\r\n",
      "    cmd: python src/featurization.py\r\n",
      "    deps:\r\n",
      "    - data/iris.csv\r\n",
      "    - src/featurization.py\r\n",
      "    outs:\r\n",
      "    - data/iris_featurized.csv\r\n"
     ]
    }
   ],
   "source": [
    "!cat dvc.yaml"
   ]
  },
  {
   "cell_type": "code",
   "execution_count": 24,
   "id": "999bedc1",
   "metadata": {},
   "outputs": [
    {
     "data": {
      "text/html": [
       "<div>\n",
       "<style scoped>\n",
       "    .dataframe tbody tr th:only-of-type {\n",
       "        vertical-align: middle;\n",
       "    }\n",
       "\n",
       "    .dataframe tbody tr th {\n",
       "        vertical-align: top;\n",
       "    }\n",
       "\n",
       "    .dataframe thead th {\n",
       "        text-align: right;\n",
       "    }\n",
       "</style>\n",
       "<table border=\"1\" class=\"dataframe\">\n",
       "  <thead>\n",
       "    <tr style=\"text-align: right;\">\n",
       "      <th></th>\n",
       "      <th>sepal_length</th>\n",
       "      <th>sepal_width</th>\n",
       "      <th>petal_length</th>\n",
       "      <th>petal_width</th>\n",
       "      <th>target</th>\n",
       "    </tr>\n",
       "  </thead>\n",
       "  <tbody>\n",
       "    <tr>\n",
       "      <th>0</th>\n",
       "      <td>5.1</td>\n",
       "      <td>3.5</td>\n",
       "      <td>1.4</td>\n",
       "      <td>0.2</td>\n",
       "      <td>0</td>\n",
       "    </tr>\n",
       "    <tr>\n",
       "      <th>1</th>\n",
       "      <td>4.9</td>\n",
       "      <td>3.0</td>\n",
       "      <td>1.4</td>\n",
       "      <td>0.2</td>\n",
       "      <td>0</td>\n",
       "    </tr>\n",
       "    <tr>\n",
       "      <th>2</th>\n",
       "      <td>4.7</td>\n",
       "      <td>3.2</td>\n",
       "      <td>1.3</td>\n",
       "      <td>0.2</td>\n",
       "      <td>0</td>\n",
       "    </tr>\n",
       "    <tr>\n",
       "      <th>3</th>\n",
       "      <td>4.6</td>\n",
       "      <td>3.1</td>\n",
       "      <td>1.5</td>\n",
       "      <td>0.2</td>\n",
       "      <td>0</td>\n",
       "    </tr>\n",
       "    <tr>\n",
       "      <th>4</th>\n",
       "      <td>5.0</td>\n",
       "      <td>3.6</td>\n",
       "      <td>1.4</td>\n",
       "      <td>0.2</td>\n",
       "      <td>0</td>\n",
       "    </tr>\n",
       "  </tbody>\n",
       "</table>\n",
       "</div>"
      ],
      "text/plain": [
       "   sepal_length  sepal_width  petal_length  petal_width  target\n",
       "0           5.1          3.5           1.4          0.2       0\n",
       "1           4.9          3.0           1.4          0.2       0\n",
       "2           4.7          3.2           1.3          0.2       0\n",
       "3           4.6          3.1           1.5          0.2       0\n",
       "4           5.0          3.6           1.4          0.2       0"
      ]
     },
     "execution_count": 24,
     "metadata": {},
     "output_type": "execute_result"
    }
   ],
   "source": [
    "import pandas as pd\n",
    "features = pd.read_csv(\"data/iris_featurized.csv\")\n",
    "features.head()"
   ]
  },
  {
   "cell_type": "code",
   "execution_count": 26,
   "id": "00e12fba",
   "metadata": {},
   "outputs": [
    {
     "name": "stdout",
     "output_type": "stream",
     "text": [
      " M dvc-1-from-scratch.ipynb\n",
      "?? dvc.lock\n",
      "?? dvc.yaml\n"
     ]
    }
   ],
   "source": [
    "!git status -s"
   ]
  },
  {
   "cell_type": "code",
   "execution_count": 28,
   "id": "4779fdb3",
   "metadata": {},
   "outputs": [
    {
     "name": "stdout",
     "output_type": "stream",
     "text": [
      "[experiments ccb613c] add stage features_extraction\n",
      " 3 files changed, 346 insertions(+), 22 deletions(-)\n",
      " create mode 100644 dvc.lock\n",
      " create mode 100644 dvc.yaml\n"
     ]
    }
   ],
   "source": [
    "%%bash\n",
    "git add .\n",
    "git commit -m \"add stage features_extraction\""
   ]
  },
  {
   "cell_type": "markdown",
   "id": "dd335c63",
   "metadata": {},
   "source": [
    "#### Add split train/test stage via dvc.yaml"
   ]
  },
  {
   "cell_type": "code",
   "execution_count": 38,
   "id": "a7126591",
   "metadata": {},
   "outputs": [
    {
     "name": "stdout",
     "output_type": "stream",
     "text": [
      "Running stage 'split_dataset' with command:\n",
      "\tpython src/split_dataset.py --test_size 0.4\n",
      "Modifying stage 'split_dataset' in 'dvc.yaml'\n",
      "Updating lock file 'dvc.lock'\n",
      "\n",
      "To track the changes with git, run:\n",
      "\n",
      "\tgit add dvc.lock dvc.yaml\n"
     ]
    }
   ],
   "source": [
    "%%bash\n",
    "\n",
    "dvc run --force -n split_dataset \\\n",
    "    -d src/split_dataset.py \\\n",
    "    -d data/iris_featurized.csv \\\n",
    "    -o data/train.csv \\\n",
    "    -o data/test.csv \\\n",
    "    python src/split_dataset.py --test_size 0.4"
   ]
  },
  {
   "cell_type": "code",
   "execution_count": 39,
   "id": "ad9def9d",
   "metadata": {},
   "outputs": [
    {
     "name": "stdout",
     "output_type": "stream",
     "text": [
      "stages:\r\n",
      "  feature-extraction:\r\n",
      "    cmd: python src/featurization.py\r\n",
      "    deps:\r\n",
      "    - data/iris.csv\r\n",
      "    - src/featurization.py\r\n",
      "    outs:\r\n",
      "    - data/iris_featurized.csv\r\n",
      "  split_dataset:\r\n",
      "    cmd: python src/split_dataset.py --test_size 0.4\r\n",
      "    deps:\r\n",
      "    - data/iris_featurized.csv\r\n",
      "    - src/split_dataset.py\r\n",
      "    outs:\r\n",
      "    - data/test.csv\r\n",
      "    - data/train.csv\r\n"
     ]
    }
   ],
   "source": [
    "!cat dvc.yaml"
   ]
  },
  {
   "cell_type": "markdown",
   "id": "f17d20ae",
   "metadata": {},
   "source": [
    "#### Add train stage"
   ]
  },
  {
   "cell_type": "code",
   "execution_count": 43,
   "id": "953daee1",
   "metadata": {},
   "outputs": [
    {
     "name": "stdout",
     "output_type": "stream",
     "text": [
      "Running stage 'train' with command:\n",
      "\tpython src/train.py\n",
      "Adding stage 'train' in 'dvc.yaml'\n",
      "Updating lock file 'dvc.lock'\n",
      "\n",
      "To track the changes with git, run:\n",
      "\n",
      "\tgit add dvc.yaml dvc.lock\n"
     ]
    }
   ],
   "source": [
    "%%bash\n",
    "\n",
    "# -d - dependencies\n",
    "# -o - outs\n",
    "# python - script to execute\n",
    "# -n - stage to add\n",
    "# -m - metrics\n",
    "\n",
    "dvc run --force -n train \\\n",
    "    -d src/train.py \\\n",
    "    -d data/train.csv \\\n",
    "    -o data/model.joblib \\\n",
    "    python src/train.py"
   ]
  },
  {
   "cell_type": "code",
   "execution_count": 44,
   "id": "db3fba86",
   "metadata": {},
   "outputs": [
    {
     "name": "stdout",
     "output_type": "stream",
     "text": [
      "stages:\r\n",
      "  feature-extraction:\r\n",
      "    cmd: python src/featurization.py\r\n",
      "    deps:\r\n",
      "    - data/iris.csv\r\n",
      "    - src/featurization.py\r\n",
      "    outs:\r\n",
      "    - data/iris_featurized.csv\r\n",
      "  split_dataset:\r\n",
      "    cmd: python src/split_dataset.py --test_size 0.4\r\n",
      "    deps:\r\n",
      "    - data/iris_featurized.csv\r\n",
      "    - src/split_dataset.py\r\n",
      "    outs:\r\n",
      "    - data/test.csv\r\n",
      "    - data/train.csv\r\n",
      "  train:\r\n",
      "    cmd: python src/train.py\r\n",
      "    deps:\r\n",
      "    - data/train.csv\r\n",
      "    - src/train.py\r\n",
      "    outs:\r\n",
      "    - data/model.joblib\r\n"
     ]
    }
   ],
   "source": [
    "!cat dvc.yaml"
   ]
  },
  {
   "cell_type": "markdown",
   "id": "bb698369",
   "metadata": {},
   "source": [
    "#### Add evaluate stage"
   ]
  },
  {
   "cell_type": "code",
   "execution_count": 46,
   "id": "f9d266f2",
   "metadata": {},
   "outputs": [
    {
     "name": "stdout",
     "output_type": "stream",
     "text": [
      "Running stage 'evaluate' with command:\n",
      "\tpython src/evaluate.py\n",
      "Adding stage 'evaluate' in 'dvc.yaml'\n",
      "Updating lock file 'dvc.lock'\n",
      "\n",
      "To track the changes with git, run:\n",
      "\n",
      "\tgit add dvc.lock dvc.yaml\n"
     ]
    }
   ],
   "source": [
    "%%bash\n",
    "\n",
    "dvc run --force -n evaluate \\\n",
    "    -d src/train.py \\\n",
    "    -d src/evaluate.py \\\n",
    "    -d data/test.csv \\\n",
    "    -d data/model.joblib \\\n",
    "    -m data/eval.txt \\\n",
    "    python src/evaluate.py"
   ]
  },
  {
   "cell_type": "code",
   "execution_count": 47,
   "id": "b80e1e89",
   "metadata": {},
   "outputs": [
    {
     "name": "stdout",
     "output_type": "stream",
     "text": [
      "stages:\r\n",
      "  feature-extraction:\r\n",
      "    cmd: python src/featurization.py\r\n",
      "    deps:\r\n",
      "    - data/iris.csv\r\n",
      "    - src/featurization.py\r\n",
      "    outs:\r\n",
      "    - data/iris_featurized.csv\r\n",
      "  split_dataset:\r\n",
      "    cmd: python src/split_dataset.py --test_size 0.4\r\n",
      "    deps:\r\n",
      "    - data/iris_featurized.csv\r\n",
      "    - src/split_dataset.py\r\n",
      "    outs:\r\n",
      "    - data/test.csv\r\n",
      "    - data/train.csv\r\n",
      "  train:\r\n",
      "    cmd: python src/train.py\r\n",
      "    deps:\r\n",
      "    - data/train.csv\r\n",
      "    - src/train.py\r\n",
      "    outs:\r\n",
      "    - data/model.joblib\r\n",
      "  evaluate:\r\n",
      "    cmd: python src/evaluate.py\r\n",
      "    deps:\r\n",
      "    - data/model.joblib\r\n",
      "    - data/test.csv\r\n",
      "    - src/evaluate.py\r\n",
      "    - src/train.py\r\n",
      "    metrics:\r\n",
      "    - data/eval.txt\r\n"
     ]
    }
   ],
   "source": [
    "!cat dvc.yaml"
   ]
  },
  {
   "cell_type": "markdown",
   "id": "2538a7a3",
   "metadata": {},
   "source": [
    "#### Reproduce pipeline"
   ]
  },
  {
   "cell_type": "code",
   "execution_count": 48,
   "id": "281e0b60",
   "metadata": {},
   "outputs": [
    {
     "name": "stdout",
     "output_type": "stream",
     "text": [
      "+------------------------------------------+\n",
      "|                                          |\n",
      "|     Update available 1.8.4 -> 2.11.0     |\n",
      "|     Run `pip install dvc --upgrade`      |\n",
      "|                                          |\n",
      "+------------------------------------------+\n",
      "\n",
      "'data/iris.csv.dvc' didn't change, skipping                           \n",
      "Stage 'feature-extraction' didn't change, skipping\n",
      "Stage 'split_dataset' didn't change, skipping\n",
      "Data and pipelines are up to date.\n"
     ]
    }
   ],
   "source": [
    "!dvc repro split_dataset"
   ]
  },
  {
   "cell_type": "markdown",
   "id": "e54d48ac",
   "metadata": {},
   "source": [
    "## Collaborate on ML Experiments\n",
    "#### Specify remote storage (local ~ /tmp/dvc)"
   ]
  },
  {
   "cell_type": "code",
   "execution_count": 49,
   "id": "d765b0ae",
   "metadata": {},
   "outputs": [
    {
     "name": "stdout",
     "output_type": "stream",
     "text": [
      "Setting 'loal' as a default remote.\r\n"
     ]
    }
   ],
   "source": [
    "!dvc remote add -d loal /tmp/dvc"
   ]
  },
  {
   "cell_type": "markdown",
   "id": "3adbd88d",
   "metadata": {},
   "source": [
    "#### Push features to remote storage"
   ]
  },
  {
   "cell_type": "code",
   "execution_count": 50,
   "id": "304aeec2",
   "metadata": {},
   "outputs": [
    {
     "name": "stdout",
     "output_type": "stream",
     "text": [
      "+------------------------------------------+\n",
      "|                                          |\n",
      "|     Update available 1.8.4 -> 2.11.0     |\n",
      "|     Run `pip install dvc --upgrade`      |\n",
      "|                                          |\n",
      "+------------------------------------------+\n",
      "\n",
      "6 files pushed                                                                  \n"
     ]
    }
   ],
   "source": [
    "!dvc push"
   ]
  },
  {
   "cell_type": "markdown",
   "id": "8990fd29",
   "metadata": {},
   "source": [
    "#### Create tag experiment-1"
   ]
  },
  {
   "cell_type": "code",
   "execution_count": 51,
   "id": "8badd214",
   "metadata": {},
   "outputs": [],
   "source": [
    "!git tag -a experiment-1 -m \"experiment-1\""
   ]
  },
  {
   "cell_type": "markdown",
   "id": "5636baea",
   "metadata": {},
   "source": [
    "#### Checkout into your teammate experiment state"
   ]
  },
  {
   "cell_type": "code",
   "execution_count": 52,
   "id": "55def400",
   "metadata": {},
   "outputs": [
    {
     "name": "stdout",
     "output_type": "stream",
     "text": [
      "M\t.dvc/config\n",
      "M\tdvc-1-from-scratch.ipynb\n",
      "M\tdvc.lock\n",
      "M\tdvc.yaml\n"
     ]
    },
    {
     "name": "stderr",
     "output_type": "stream",
     "text": [
      "Note: switching to 'experiment-1'.\n",
      "\n",
      "You are in 'detached HEAD' state. You can look around, make experimental\n",
      "changes and commit them, and you can discard any commits you make in this\n",
      "state without impacting any branches by switching back to a branch.\n",
      "\n",
      "If you want to create a new branch to retain commits you create, you may\n",
      "do so (now or later) by using -c with the switch command. Example:\n",
      "\n",
      "  git switch -c <new-branch-name>\n",
      "\n",
      "Or undo this operation with:\n",
      "\n",
      "  git switch -\n",
      "\n",
      "Turn off this advice by setting config variable advice.detachedHead to false\n",
      "\n",
      "HEAD is now at ccb613c add stage features_extraction\n"
     ]
    }
   ],
   "source": [
    "%%bash\n",
    "\n",
    "git checkout experiment-1\n",
    "dvc checkout"
   ]
  },
  {
   "cell_type": "markdown",
   "id": "f8ed9b4c",
   "metadata": {},
   "source": [
    "#### Check Metrics"
   ]
  },
  {
   "cell_type": "code",
   "execution_count": 53,
   "id": "1e38a4a0",
   "metadata": {},
   "outputs": [
    {
     "name": "stdout",
     "output_type": "stream",
     "text": [
      "+------------------------------------------+\n",
      "|                                          |\n",
      "|     Update available 1.8.4 -> 2.11.0     |\n",
      "|     Run `pip install dvc --upgrade`      |\n",
      "|                                          |\n",
      "+------------------------------------------+\n",
      "\n",
      "\tdata/eval.txt:                                                       \n",
      "\t\tf1_score: 0.7861833464670345\n"
     ]
    }
   ],
   "source": [
    "!dvc metrics show"
   ]
  },
  {
   "cell_type": "markdown",
   "id": "b1066c7c",
   "metadata": {},
   "source": [
    "#### Reproduce experiment"
   ]
  },
  {
   "cell_type": "code",
   "execution_count": 54,
   "id": "e21b1cfb",
   "metadata": {},
   "outputs": [
    {
     "name": "stdout",
     "output_type": "stream",
     "text": [
      "+------------------------------------------+\n",
      "|                                          |\n",
      "|     Update available 1.8.4 -> 2.11.0     |\n",
      "|     Run `pip install dvc --upgrade`      |\n",
      "|                                          |\n",
      "+------------------------------------------+\n",
      "\n",
      "'data/iris.csv.dvc' didn't change, skipping                           \n",
      "Stage 'feature-extraction' didn't change, skipping\n",
      "Stage 'split_dataset' didn't change, skipping\n",
      "Stage 'train' didn't change, skipping\n",
      "Stage 'evaluate' didn't change, skipping\n",
      "Data and pipelines are up to date.\n"
     ]
    }
   ],
   "source": [
    "# nothing to reporduce\n",
    "!dvc repro"
   ]
  },
  {
   "cell_type": "code",
   "execution_count": 55,
   "id": "cff93049",
   "metadata": {},
   "outputs": [
    {
     "name": "stdout",
     "output_type": "stream",
     "text": [
      "+------------------------------------------+\n",
      "|                                          |\n",
      "|     Update available 1.8.4 -> 2.11.0     |\n",
      "|     Run `pip install dvc --upgrade`      |\n",
      "|                                          |\n",
      "+------------------------------------------+\n",
      "\n",
      "Verifying data sources in stage: 'data/iris.csv.dvc'                  \n",
      "\n",
      "Running stage 'feature-extraction' with command:\n",
      "\tpython src/featurization.py\n",
      "                                                                      \n",
      "Running stage 'split_dataset' with command:\n",
      "\tpython src/split_dataset.py --test_size 0.4\n",
      "                                                                      \n",
      "Running stage 'train' with command:\n",
      "\tpython src/train.py\n",
      "                                                                      \n",
      "Running stage 'evaluate' with command:\n",
      "\tpython src/evaluate.py\n",
      "                                                                      \n",
      "To track the changes with git, run:\n",
      "\n",
      "\tgit add data/iris.csv.dvc\n"
     ]
    }
   ],
   "source": [
    "!dvc repro -f"
   ]
  },
  {
   "cell_type": "code",
   "execution_count": 56,
   "id": "1fb1d1f2",
   "metadata": {},
   "outputs": [
    {
     "name": "stdout",
     "output_type": "stream",
     "text": [
      "+------------------------------------------+\n",
      "|                                          |\n",
      "|     Update available 1.8.4 -> 2.11.0     |\n",
      "|     Run `pip install dvc --upgrade`      |\n",
      "|                                          |\n",
      "+------------------------------------------+\n",
      "\n",
      "\tdata/eval.txt:                                                       \n",
      "\t\tf1_score: 0.7861833464670345\n"
     ]
    }
   ],
   "source": [
    "# recheck metrics\n",
    "!dvc metrics show"
   ]
  },
  {
   "cell_type": "code",
   "execution_count": null,
   "id": "4eba6464",
   "metadata": {},
   "outputs": [],
   "source": []
  }
 ],
 "metadata": {
  "kernelspec": {
   "display_name": "Python 3",
   "language": "python",
   "name": "python3"
  },
  "language_info": {
   "codemirror_mode": {
    "name": "ipython",
    "version": 3
   },
   "file_extension": ".py",
   "mimetype": "text/x-python",
   "name": "python",
   "nbconvert_exporter": "python",
   "pygments_lexer": "ipython3",
   "version": "3.8.8"
  }
 },
 "nbformat": 4,
 "nbformat_minor": 5
}
