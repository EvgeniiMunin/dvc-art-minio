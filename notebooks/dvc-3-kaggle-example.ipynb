{
 "cells": [
  {
   "cell_type": "markdown",
   "id": "fc4fe730",
   "metadata": {},
   "source": [
    "### Intro to DVC Kaggle Notebook\n",
    "- https://www.kaggle.com/code/kurianbenoy/introduction-to-data-version-control-dvc/notebook"
   ]
  },
  {
   "cell_type": "code",
   "execution_count": 1,
   "id": "978fd037",
   "metadata": {},
   "outputs": [
    {
     "name": "stdout",
     "output_type": "stream",
     "text": [
      "dvc-3-kaggle-example.ipynb results.zip\r\n"
     ]
    }
   ],
   "source": [
    "!ls"
   ]
  },
  {
   "cell_type": "code",
   "execution_count": 2,
   "id": "c06f99f4",
   "metadata": {},
   "outputs": [],
   "source": [
    "import warnings\n",
    "warnings.filterwarnings('ignore')"
   ]
  },
  {
   "cell_type": "code",
   "execution_count": 3,
   "id": "63318659",
   "metadata": {},
   "outputs": [
    {
     "name": "stdout",
     "output_type": "stream",
     "text": [
      "2.11.0\n",
      "\u001b[0musage: dvc [-q | -v] [-h] [-V] [--cd <path>] COMMAND ...\n",
      "\n",
      "Data Version Control\n",
      "\n",
      "optional arguments:\n",
      "  -q, --quiet        Be quiet.\n",
      "  -v, --verbose      Be verbose.\n",
      "  -h, --help         Show this help message and exit.\n",
      "  -V, --version      Show program's version.\n",
      "  --cd <path>        Change to directory before executing.\n",
      "\n",
      "Available Commands:\n",
      "  COMMAND            Use `dvc COMMAND --help` for command-specific help.\n",
      "    init             Initialize DVC in the current directory.\n",
      "    get              Download file or directory tracked by DVC or by Git.\n",
      "    get-url          Download or copy files from URL.\n",
      "    destroy          Remove DVC files, local DVC config and data cache.\n",
      "    add              Track data files or directories with DVC.\n",
      "    remove           Remove stages from dvc.yaml and/or stop tracking files or directories.\n",
      "    move             Rename or move a DVC controlled data file or a directory.\n",
      "    unprotect        Unprotect tracked files or directories (when hardlinks or symlinks have been enabled with `dvc config cache.type`).\n",
      "    run              Generate a dvc.yaml file from a command and execute the command.\n",
      "    repro            Reproduce complete or partial pipelines by executing their stages.\n",
      "    pull             Download tracked files or directories from remote storage.\n",
      "    push             Upload tracked files or directories to remote storage.\n",
      "    fetch            Download files or directories from remote storage to the cache.\n",
      "    status           Show changed stages, compare local cache and a remote storage.\n",
      "    gc               Garbage collect unused objects from cache or remote storage.\n",
      "    import           Download file or directory tracked by DVC or by Git into the workspace, and track it.\n",
      "    import-url       Download or copy file from URL and take it under DVC control.\n",
      "    config           Get or set config options.\n",
      "    checkout         Checkout data files from cache.\n",
      "    remote           Set up and manage data remotes.\n",
      "    cache            Manage cache settings.\n",
      "    metrics          Commands to display and compare metrics.\n",
      "    params           Commands to display params.\n",
      "    install          Install DVC git hooks into the repository.\n",
      "    root             Return the relative path to the root of the DVC project.\n",
      "    list (ls)        List repository contents, including files and directories tracked by DVC and by Git.\n",
      "    freeze           Freeze stages or .dvc files.\n",
      "    unfreeze         Unfreeze stages or .dvc files.\n",
      "    dag              Visualize DVC project DAG.\n",
      "    commit           Record changes to files or directories tracked by DVC by storing the current versions in the cache.\n",
      "    completion       Generate shell tab completion.\n",
      "    diff             Show added, modified, or deleted data between commits in the DVC repository, or between a commit and the workspace.\n",
      "    version (doctor)\n",
      "                     Display the DVC version and system/environment information.\n",
      "    update           Update data artifacts imported from other DVC repositories.\n",
      "    plots            Commands to visualize and compare plot metrics in structured files (JSON, YAML, CSV, TSV).\n",
      "    stage            Commands to list and create stages.\n",
      "    experiments (exp)\n",
      "                     Commands to run and compare experiments.\n",
      "    check-ignore     Check whether files or directories are excluded due to `.dvcignore`.\n",
      "\u001b[0m"
     ]
    }
   ],
   "source": [
    "!dvc --version\n",
    "!dvc -h"
   ]
  },
  {
   "cell_type": "code",
   "execution_count": 4,
   "id": "8de50502",
   "metadata": {},
   "outputs": [
    {
     "name": "stdout",
     "output_type": "stream",
     "text": [
      "dvc-3-kaggle-example.ipynb results.zip\r\n",
      "\u001b[34mget-started\u001b[m\u001b[m\r\n"
     ]
    }
   ],
   "source": [
    "!mkdir get-started && cd get-started\n",
    "!ls"
   ]
  },
  {
   "cell_type": "code",
   "execution_count": 5,
   "id": "f79c4373",
   "metadata": {},
   "outputs": [],
   "source": [
    "from pathlib import Path\n",
    "import os\n",
    "\n",
    "a = Path.cwd() / \"get-started\"\n",
    "os.chdir(a)"
   ]
  },
  {
   "cell_type": "code",
   "execution_count": 6,
   "id": "bb740df6",
   "metadata": {},
   "outputs": [
    {
     "name": "stdout",
     "output_type": "stream",
     "text": [
      "Initialized empty Git repository in /Users/evgeniimunin/Documents/02_Medium/02_dvc/dvc-3-kaggle-s3/get-started/.git/\r\n"
     ]
    }
   ],
   "source": [
    "# initizalize git in our folder\n",
    "!git init"
   ]
  },
  {
   "cell_type": "code",
   "execution_count": 7,
   "id": "8f2d1864",
   "metadata": {},
   "outputs": [
    {
     "name": "stdout",
     "output_type": "stream",
     "text": [
      "Initialized DVC repository.\n",
      "\n",
      "You can now commit the changes to git.\n",
      "\n",
      "\u001b[31m+---------------------------------------------------------------------+\n",
      "\u001b[0m\u001b[31m|\u001b[0m                                                                     \u001b[31m|\u001b[0m\n",
      "\u001b[31m|\u001b[0m        DVC has enabled anonymous aggregate usage analytics.         \u001b[31m|\u001b[0m\n",
      "\u001b[31m|\u001b[0m     Read the analytics documentation (and how to opt-out) here:     \u001b[31m|\u001b[0m\n",
      "\u001b[31m|\u001b[0m             <\u001b[36mhttps://dvc.org/doc/user-guide/analytics\u001b[39m>              \u001b[31m|\u001b[0m\n",
      "\u001b[31m|\u001b[0m                                                                     \u001b[31m|\u001b[0m\n",
      "\u001b[31m+---------------------------------------------------------------------+\n",
      "\u001b[0m\n",
      "\u001b[33mWhat's next?\u001b[39m\n",
      "\u001b[33m------------\u001b[39m\n",
      "- Check out the documentation: <\u001b[36mhttps://dvc.org/doc\u001b[39m>\n",
      "- Get help and share ideas: <\u001b[36mhttps://dvc.org/chat\u001b[39m>\n",
      "- Star us on GitHub: <\u001b[36mhttps://github.com/iterative/dvc\u001b[39m>\n",
      "\u001b[0m"
     ]
    }
   ],
   "source": [
    "# run dvc initialization in a repo directory to create DVC meta files and directories\n",
    "!dvc init"
   ]
  },
  {
   "cell_type": "code",
   "execution_count": 8,
   "id": "226aa759",
   "metadata": {},
   "outputs": [
    {
     "name": "stdout",
     "output_type": "stream",
     "text": [
      "[master (root-commit) 065b29a] initialize DVC\r\n",
      " 3 files changed, 6 insertions(+)\r\n",
      " create mode 100644 .dvc/.gitignore\r\n",
      " create mode 100644 .dvc/config\r\n",
      " create mode 100644 .dvcignore\r\n"
     ]
    }
   ],
   "source": [
    "# config git for user account\n",
    "#! git config --global user.name \"kuranbenoy\" #Replace with your github username\n",
    "#! git config --global user.email \"kurian.bkk@gmail.com\" #Replace with your email id\n",
    "\n",
    "# commit initialized git files\n",
    "!git commit -m \"initialize DVC\""
   ]
  },
  {
   "cell_type": "markdown",
   "id": "859dc23c",
   "metadata": {},
   "source": [
    "### Configuring DVC remotes\n",
    "\n",
    "A DVC remote is used to share your ML models and datasets with others. The various types of remotes DVC currently supports is: https://dvc.org/doc/get-started/configure\n",
    "\n",
    "- local - Local directory\n",
    "- s3 - Amazon Simple Storage Service\n",
    "- gs - Google Cloud Storage\n",
    "- azure - Azure Blob Storage\n",
    "- ssh - Secure Shell\n",
    "- hdfs - The Hadoop Distributed File System\n",
    "- http - Support for HTTP and HTTPS protocolbucks\n",
    "\n",
    "Note we are using remote as a local directory as storage. It's usually recommended to use Cloud storage services as DVC remote."
   ]
  },
  {
   "cell_type": "code",
   "execution_count": 9,
   "id": "5c1eb93c",
   "metadata": {},
   "outputs": [
    {
     "name": "stdout",
     "output_type": "stream",
     "text": [
      "Setting 'myremote' as a default remote.\n",
      "\u001b[0m"
     ]
    }
   ],
   "source": [
    "! dvc remote add -d -f myremote /tmp/dvc-storage"
   ]
  },
  {
   "cell_type": "code",
   "execution_count": 10,
   "id": "6ce1cdb4",
   "metadata": {},
   "outputs": [
    {
     "name": "stdout",
     "output_type": "stream",
     "text": [
      "\u001b[32mSublime Text.1412e317863d9ac0332e69a0eea79cd4.8a0daf9de0aa4c55cb04cc4fc066df3f.sock\u001b[m\u001b[m\r\n",
      "\u001b[34mcom.apple.launchd.acCrU2uGFk\u001b[m\u001b[m\r\n",
      "\u001b[34mdvc\u001b[m\u001b[m\r\n",
      "\u001b[34mpowerlog\u001b[m\u001b[m\r\n"
     ]
    }
   ],
   "source": [
    "! ls /tmp"
   ]
  },
  {
   "cell_type": "code",
   "execution_count": 11,
   "id": "1fc775f3",
   "metadata": {},
   "outputs": [
    {
     "name": "stdout",
     "output_type": "stream",
     "text": [
      "[master 18f643d] initialize DVC local remote\r\n",
      " 1 file changed, 4 insertions(+)\r\n"
     ]
    }
   ],
   "source": [
    "!git commit .dvc/config -m \"initialize DVC local remote\""
   ]
  },
  {
   "cell_type": "markdown",
   "id": "9b8af79d",
   "metadata": {},
   "source": [
    "### Download files"
   ]
  },
  {
   "cell_type": "code",
   "execution_count": 13,
   "id": "8b02dd34",
   "metadata": {},
   "outputs": [
    {
     "name": "stdout",
     "output_type": "stream",
     "text": [
      "data.xml\n",
      "mkdir: data/: File exists\n",
      "\u001b[31mERROR\u001b[39m: unexpected error - [Errno 17] File exists: 'data/data.xml'\n",
      "\n",
      "\u001b[33mHaving any troubles?\u001b[39m Hit us up at \u001b[34mhttps://dvc.org/support\u001b[39m, we are always happy to help!\n",
      "\u001b[0m"
     ]
    }
   ],
   "source": [
    "# download the data\n",
    "! ls data/\n",
    "! mkdir data/\n",
    "! dvc get https://github.com/iterative/dataset-registry get-started/data.xml -o data/data.xml"
   ]
  },
  {
   "cell_type": "code",
   "execution_count": 14,
   "id": "ff211957",
   "metadata": {},
   "outputs": [
    {
     "name": "stdout",
     "output_type": "stream",
     "text": [
      "\u001b[2K\u001b[32m⠋\u001b[0m Checking graph                                                   \u001b[32m⠋\u001b[0m Checking graph\n",
      "Adding...                                                                       \n",
      "!\u001b[A\n",
      "  0% Checking cache in '/Users/evgeniimunin/Documents/02_Medium/02_dvc/dvc-3-kag\u001b[A\n",
      "                                                                                \u001b[A\n",
      "!\u001b[A\n",
      "  0%|          |Transferring                          0/1 [00:00<?,     ?file/s]\u001b[A\n",
      "100% Adding...|████████████████████████████████████████|1/1 [00:00, 15.64file/s]\u001b[A\n",
      "\n",
      "To track the changes with git, run:\n",
      "\n",
      "    git add data/data.xml.dvc data/.gitignore\n",
      "\n",
      "To enable auto staging, run:\n",
      "\n",
      "\tdvc config core.autostage true\n",
      "\u001b[0m"
     ]
    }
   ],
   "source": [
    "# add file (directory) to DVC\n",
    "!dvc add data/data.xml"
   ]
  },
  {
   "cell_type": "code",
   "execution_count": 15,
   "id": "533d1453",
   "metadata": {},
   "outputs": [
    {
     "name": "stdout",
     "output_type": "stream",
     "text": [
      "[master 6085f7d] add source data to DVC\r\n",
      " 2 files changed, 5 insertions(+)\r\n",
      " create mode 100644 data/.gitignore\r\n",
      " create mode 100644 data/data.xml.dvc\r\n"
     ]
    }
   ],
   "source": [
    "# add DVC files to git and update gitignore\n",
    "!git add data/.gitignore data/data.xml.dvc\n",
    "!git commit -m \"add source data to DVC\""
   ]
  },
  {
   "cell_type": "code",
   "execution_count": 16,
   "id": "dd54a8d2",
   "metadata": {},
   "outputs": [
    {
     "name": "stdout",
     "output_type": "stream",
     "text": [
      "1 file pushed                                                                   \n",
      "\u001b[0m"
     ]
    }
   ],
   "source": [
    "# push them from your repository to default remote storage\n",
    "!dvc push"
   ]
  },
  {
   "cell_type": "markdown",
   "id": "cc5c39c7",
   "metadata": {},
   "source": [
    "### Retrieve data\n",
    "Now since we pushed our data, we are going to do the opposite of push ie pull similar to git analogy. An easy way to test it is by removing currently downloaded data."
   ]
  },
  {
   "cell_type": "code",
   "execution_count": 17,
   "id": "21c0949a",
   "metadata": {},
   "outputs": [],
   "source": [
    "! rm -f data/data.xml"
   ]
  },
  {
   "cell_type": "code",
   "execution_count": 18,
   "id": "56363c06",
   "metadata": {},
   "outputs": [
    {
     "name": "stdout",
     "output_type": "stream",
     "text": [
      "\u001b[32mA\u001b[0m       data/data.xml                                                  \n",
      "1 file added\n",
      "\u001b[0m"
     ]
    }
   ],
   "source": [
    "# now data returns back to repository\n",
    "! dvc pull"
   ]
  },
  {
   "cell_type": "code",
   "execution_count": 19,
   "id": "63f4e266",
   "metadata": {},
   "outputs": [
    {
     "name": "stdout",
     "output_type": "stream",
     "text": [
      "Everything is up to date.                                                       \n",
      "\u001b[0m"
     ]
    }
   ],
   "source": [
    "# in case just to retrieve a signle dataset or file\n",
    "! dvc pull data/data.xml.dvc"
   ]
  },
  {
   "cell_type": "markdown",
   "id": "10493f0a",
   "metadata": {},
   "source": [
    "#### Connecting with code\n",
    "Conncting with code\n",
    "For providing full Machine Learning reproducibility. It is important to connect code with Datasets which are being reproducible by using commands like dvc add/push/pull."
   ]
  },
  {
   "cell_type": "code",
   "execution_count": 20,
   "id": "14265bd9",
   "metadata": {},
   "outputs": [
    {
     "name": "stdout",
     "output_type": "stream",
     "text": [
      "--2022-07-02 12:01:47--  http://wget/\n",
      "Resolving wget (wget)... failed: nodename nor servname provided, or not known.\n",
      "wget: unable to resolve host address ‘wget’\n",
      "--2022-07-02 12:01:47--  https://code.dvc.org/get-started/code.zip\n",
      "Resolving code.dvc.org (code.dvc.org)... 104.21.81.205, 172.67.164.76\n",
      "Connecting to code.dvc.org (code.dvc.org)|104.21.81.205|:443... connected.\n",
      "HTTP request sent, awaiting response... 303 See Other\n",
      "Location: https://s3-us-east-2.amazonaws.com/dvc-public/code/get-started/code.zip [following]\n",
      "--2022-07-02 12:01:48--  https://s3-us-east-2.amazonaws.com/dvc-public/code/get-started/code.zip\n",
      "Resolving s3-us-east-2.amazonaws.com (s3-us-east-2.amazonaws.com)... 52.219.100.66\n",
      "Connecting to s3-us-east-2.amazonaws.com (s3-us-east-2.amazonaws.com)|52.219.100.66|:443... connected.\n",
      "HTTP request sent, awaiting response... 200 OK\n",
      "Length: 5939 (5,8K) [application/zip]\n",
      "Saving to: ‘code.zip’\n",
      "\n",
      "code.zip            100%[===================>]   5,80K  --.-KB/s    in 0,003s  \n",
      "\n",
      "2022-07-02 12:01:48 (2,03 MB/s) - ‘code.zip’ saved [5939/5939]\n",
      "\n",
      "FINISHED --2022-07-02 12:01:48--\n",
      "Total wall clock time: 1,4s\n",
      "Downloaded: 1 files, 5,8K in 0,003s (2,03 MB/s)\n",
      "Archive:  code.zip\n",
      "  inflating: params.yaml             \n",
      "  inflating: src/evaluate.py         \n",
      "  inflating: src/featurization.py    \n",
      "  inflating: src/prepare.py          \n",
      "  inflating: src/requirements.txt    \n",
      "  inflating: src/train.py            \n",
      "   creating: .github/workflows/\n",
      "  inflating: .github/workflows/cml.yaml  \n",
      "  inflating: .devcontainer/Dockerfile  \n",
      "  inflating: .devcontainer/devcontainer.json  \n"
     ]
    }
   ],
   "source": [
    "# run these commands to get sample code\n",
    "!wget wget https://code.dvc.org/get-started/code.zip\n",
    "!unzip code.zip\n",
    "!rm -f code.zip"
   ]
  },
  {
   "cell_type": "markdown",
   "id": "6b56bd09",
   "metadata": {},
   "source": [
    "Having installed the src/prepare.py script in your repo, the following command transforms it into a reproducible stage for the ML pipeline we're building (described in detail in the documentation).\n",
    "\n",
    "Stages are run using dvc run [command] and options among which we use:\n",
    "\n",
    "- d for dependency: specify an input file\n",
    "- o for output: specify an output file ignored by git and tracked by dvc\n",
    "- M for metric: specify an output file tracked by git\n",
    "- f for file: specify the name of the dvc file.\n",
    "- command: a bash command, mostly a python script invocation"
   ]
  },
  {
   "cell_type": "code",
   "execution_count": 23,
   "id": "c8554654",
   "metadata": {},
   "outputs": [
    {
     "name": "stdout",
     "output_type": "stream",
     "text": [
      "Running stage 'prepare_data':                                         core\u001b[39m>\n",
      "> prepare.dvc -d src/prepare.py -d src/data.xml -o data/prepared python src/prepare.py data/data.xml\n",
      "zsh:1: command not found: prepare.dvc\n",
      "\u001b[31mERROR\u001b[39m: failed to run: prepare.dvc -d src/prepare.py -d src/data.xml -o data/prepared python src/prepare.py data/data.xml, exited with 127\n",
      "\u001b[0m"
     ]
    }
   ],
   "source": [
    "# create pipeline to create folder data/prepared with false train.csv and test.csv\n",
    "!dvc run \\\n",
    "    -n prepare_data \\\n",
    "    -f prepare.dvc \\\n",
    "    -d src/prepare.py \\\n",
    "    -d src/data.xml \\\n",
    "    -o data/prepared \\\n",
    "    python src/prepare.py data/data.xml"
   ]
  },
  {
   "cell_type": "code",
   "execution_count": 26,
   "id": "b4481477",
   "metadata": {},
   "outputs": [
    {
     "name": "stdout",
     "output_type": "stream",
     "text": [
      "Running stage 'prepare_data':                                         core\u001b[39m>\n",
      "> prepare.dvc -d src/prepare.py -d data/data.xml -o data/prepared python src/prepare.py data/data.xml\n",
      "zsh:1: command not found: prepare.dvc\n",
      "\u001b[31mERROR\u001b[39m: failed to run: prepare.dvc -d src/prepare.py -d data/data.xml -o data/prepared python src/prepare.py data/data.xml, exited with 127\n",
      "\u001b[0m"
     ]
    }
   ],
   "source": [
    "! dvc run -n prepare_data \\\n",
    "        -f prepare.dvc \\\n",
    "          -d src/prepare.py -d data/data.xml \\\n",
    "          -o data/prepared \\\n",
    "          python src/prepare.py data/data.xml"
   ]
  },
  {
   "cell_type": "code",
   "execution_count": null,
   "id": "6b248ae4",
   "metadata": {},
   "outputs": [],
   "source": [
    "!git add data/.gitignore prepare.dvc\n",
    "!git commit -m \"add data preparation stage\""
   ]
  },
  {
   "cell_type": "code",
   "execution_count": null,
   "id": "90e91846",
   "metadata": {},
   "outputs": [],
   "source": [
    "!dvc push"
   ]
  },
  {
   "cell_type": "markdown",
   "id": "17c99cdd",
   "metadata": {},
   "source": [
    "### Pipeline\n",
    "Using dvc run multiple times, and specifying outputs of a command (stage) as dependencies in another one, we can describe a sequence of commands that gets to a desired result. This is what we call a data pipeline or computational graph.\n"
   ]
  },
  {
   "cell_type": "code",
   "execution_count": null,
   "id": "822b0971",
   "metadata": {},
   "outputs": [],
   "source": [
    "# Let's create second stage (after prepare.dvc, created in the previous chapter) to perform feature extraction\n",
    "! dvc run -f featurize.dvc \\\n",
    "          -d src/featurization.py -d data/prepared/ \\\n",
    "          -o data/features \\\n",
    "           python src/featurization.py data/prepared data/features"
   ]
  },
  {
   "cell_type": "code",
   "execution_count": null,
   "id": "2766a4d1",
   "metadata": {},
   "outputs": [],
   "source": [
    "# 3rd stage for training the model\n",
    "!dvc run -f train.dvc \\\n",
    "    -d src/train.py -d data/features \\\n",
    "    -o model.pkl \\\n",
    "    python src/train.py data/features model.pkl"
   ]
  },
  {
   "cell_type": "code",
   "execution_count": null,
   "id": "e6db5bac",
   "metadata": {},
   "outputs": [],
   "source": [
    "%bash\n",
    "git add data/.gitignore .gitignore featurize.dvc train.dvc\n",
    "git commit -m \"add featurization and train steps to the pipeline\"\n",
    "dvc push"
   ]
  },
  {
   "cell_type": "markdown",
   "id": "ba70025f",
   "metadata": {},
   "source": [
    "### Pipelines visualisation"
   ]
  },
  {
   "cell_type": "code",
   "execution_count": null,
   "id": "565654d3",
   "metadata": {},
   "outputs": [],
   "source": [
    "!dvc pipeline show --ascii train.dvc"
   ]
  },
  {
   "cell_type": "markdown",
   "id": "45f5b21e",
   "metadata": {},
   "source": [
    "### Metrics\n",
    "The last stage we would like to add to our pipeline is its the evaluation. Data science is a metric-driven R&D-like process and dvc metrics along with DVC metric files provide a framework to capture and compare experiments performance.\n",
    "\n",
    "evaluate.py calculates AUC value using the test data set. It reads features from the features/test.pkl file and produces a DVC metric file - auc.metric. It is a special DVC output file type, in this case it's just a plain text file with a single number inside."
   ]
  },
  {
   "cell_type": "code",
   "execution_count": 25,
   "id": "731ebbe3",
   "metadata": {
    "scrolled": true
   },
   "outputs": [
    {
     "name": "stdout",
     "output_type": "stream",
     "text": [
      "\u001b[31mERROR\u001b[39m: unexpected error - [Errno 1] Operation not permitted\r\n",
      "\r\n",
      "\u001b[33mHaving any troubles?\u001b[39m Hit us up at \u001b[34mhttps://dvc.org/support\u001b[39m, we are always happy to help!\r\n",
      "Traceback (most recent call last):\r\n",
      "  File \"/Users/evgeniimunin/opt/anaconda3/bin/dvc\", line 8, in <module>\r\n",
      "    sys.exit(main())\r\n",
      "  File \"/Users/evgeniimunin/opt/anaconda3/lib/python3.8/site-packages/dvc/cli/__init__.py\", line 207, in main\r\n",
      "    if analytics.is_enabled():\r\n",
      "  File \"/Users/evgeniimunin/opt/anaconda3/lib/python3.8/site-packages/dvc/analytics.py\", line 50, in is_enabled\r\n",
      "    Config(validate=False).get(\"core\", {}).get(\"analytics\", \"true\")\r\n",
      "  File \"/Users/evgeniimunin/opt/anaconda3/lib/python3.8/site-packages/dvc/config.py\", line 99, in __init__\r\n",
      "    self.dvc_dir = Repo.find_dvc_dir()\r\n",
      "  File \"/Users/evgeniimunin/opt/anaconda3/lib/python3.8/site-packages/dvc/repo/__init__.py\", line 354, in find_dvc_dir\r\n",
      "    root_dir = cls.find_root(root)\r\n",
      "  File \"/Users/evgeniimunin/opt/anaconda3/lib/python3.8/site-packages/dvc/repo/__init__.py\", line 329, in find_root\r\n",
      "    root_dir = fs.path.realpath(root)\r\n",
      "  File \"/Users/evgeniimunin/opt/anaconda3/lib/python3.8/posixpath.py\", line 392, in realpath\r\n",
      "    return abspath(path)\r\n",
      "  File \"/Users/evgeniimunin/opt/anaconda3/lib/python3.8/posixpath.py\", line 379, in abspath\r\n",
      "    cwd = os.getcwd()\r\n",
      "PermissionError: [Errno 1] Operation not permitted\r\n",
      "\u001b[0m"
     ]
    }
   ],
   "source": [
    "! dvc run -f evaluate.dvc \\\n",
    "          -d src/evaluate.py -d model.pkl -d data/features \\\n",
    "          -M auc.metric \\\n",
    "          python src/evaluate.py model.pkl \\\n",
    "                 data/features auc.metric"
   ]
  },
  {
   "cell_type": "code",
   "execution_count": null,
   "id": "62992a76",
   "metadata": {},
   "outputs": [],
   "source": [
    "%%bash\n",
    "git add evaluate.dvc auc.metric\n",
    "git commit -m \"add evaluation step to the pipeline\""
   ]
  },
  {
   "cell_type": "markdown",
   "id": "a01e6b37",
   "metadata": {},
   "source": [
    "### Experiemnts\n",
    "Data science process is inherently iterative and R&D like - data scientist may try many different approaches, different hyper-parameter values and \"fail\" many times before the required level of a metric is achieved.\n",
    "\n",
    "We are modifying our feature extraction of our files. Inorder to use bigrams. We are increasing no of features and n_gram_range in our file src/featurization.py."
   ]
  },
  {
   "cell_type": "code",
   "execution_count": null,
   "id": "0d5b58fc",
   "metadata": {},
   "outputs": [],
   "source": [
    "%%writefile src/featurization.py\n",
    "import os\n",
    "import sys\n",
    "import errno\n",
    "import pandas as pd\n",
    "import numpy as np\n",
    "import scipy.sparse as sparse\n",
    "\n",
    "from sklearn.feature_extraction.text import CountVectorizer\n",
    "from sklearn.feature_extraction.text import TfidfTransformer\n",
    "\n",
    "try:\n",
    "    import cPickle as pickle\n",
    "except ImportError:\n",
    "    import pickle\n",
    "\n",
    "np.set_printoptions(suppress=True)\n",
    "\n",
    "if len(sys.argv) != 3 and len(sys.argv) != 5:\n",
    "    sys.stderr.write('Arguments error. Usage:\\n')\n",
    "    sys.stderr.write('\\tpython featurization.py data-dir-path features-dir-path\\n')\n",
    "    sys.exit(1)\n",
    "\n",
    "train_input = os.path.join(sys.argv[1], 'train.tsv')\n",
    "test_input = os.path.join(sys.argv[1], 'test.tsv')\n",
    "train_output = os.path.join(sys.argv[2], 'train.pkl')\n",
    "test_output = os.path.join(sys.argv[2], 'test.pkl')\n",
    "\n",
    "try:\n",
    "    reload(sys)\n",
    "    sys.setdefaultencoding('utf-8')\n",
    "except NameError:\n",
    "    pass\n",
    "\n",
    "\n",
    "def mkdir_p(path):\n",
    "    try:\n",
    "        os.makedirs(path)\n",
    "    except OSError as exc:  # Python >2.5\n",
    "        if exc.errno == errno.EEXIST and os.path.isdir(path):\n",
    "            pass\n",
    "        else:\n",
    "            raise\n",
    "\n",
    "\n",
    "def get_df(data):\n",
    "    df = pd.read_csv(\n",
    "        data,\n",
    "        encoding='utf-8',\n",
    "        header=None,\n",
    "        delimiter='\\t',\n",
    "        names=['id', 'label', 'text']\n",
    "    )\n",
    "    sys.stderr.write('The input data frame {} size is {}\\n'.format(data, df.shape))\n",
    "    return df\n",
    "\n",
    "\n",
    "def save_matrix(df, matrix, output):\n",
    "    id_matrix = sparse.csr_matrix(df.id.astype(np.int64)).T\n",
    "    label_matrix = sparse.csr_matrix(df.label.astype(np.int64)).T\n",
    "\n",
    "    result = sparse.hstack([id_matrix, label_matrix, matrix], format='csr')\n",
    "\n",
    "    msg = 'The output matrix {} size is {} and data type is {}\\n'\n",
    "    sys.stderr.write(msg.format(output, result.shape, result.dtype))\n",
    "\n",
    "    with open(output, 'wb') as fd:\n",
    "        pickle.dump(result, fd, pickle.HIGHEST_PROTOCOL)\n",
    "    pass\n",
    "\n",
    "\n",
    "mkdir_p(sys.argv[2])\n",
    "\n",
    "# Generate train feature matrix\n",
    "df_train = get_df(train_input)\n",
    "train_words = np.array(df_train.text.str.lower().values.astype('U'))\n",
    "\n",
    "bag_of_words = CountVectorizer(stop_words='english',\n",
    "                               max_features=5000,\n",
    "                              ngram_range=(1, 2),)\n",
    "bag_of_words.fit(train_words)\n",
    "train_words_binary_matrix = bag_of_words.transform(train_words)\n",
    "tfidf = TfidfTransformer(smooth_idf=False)\n",
    "tfidf.fit(train_words_binary_matrix)\n",
    "train_words_tfidf_matrix = tfidf.transform(train_words_binary_matrix)\n",
    "\n",
    "save_matrix(df_train, train_words_tfidf_matrix, train_output)\n",
    "\n",
    "# Generate test feature matrix\n",
    "df_test = get_df(test_input)\n",
    "test_words = np.array(df_test.text.str.lower().values.astype('U'))\n",
    "test_words_binary_matrix = bag_of_words.transform(test_words)\n",
    "test_words_tfidf_matrix = tfidf.transform(test_words_binary_matrix)\n",
    "\n",
    "save_matrix(df_test, test_words_tfidf_matrix, test_output)"
   ]
  },
  {
   "cell_type": "markdown",
   "id": "2f3ade64",
   "metadata": {},
   "source": [
    "### Reproduce\n",
    "We described our first pipeline. Basically, we created a number of DVC-file. Each file describes a single stage we need to run (a pipeline) towards a final result. Each depends on some data (either source data files or some intermediate results from another DVC-file file) and code files."
   ]
  },
  {
   "cell_type": "code",
   "execution_count": 26,
   "id": "2c721dc9",
   "metadata": {},
   "outputs": [
    {
     "name": "stdout",
     "output_type": "stream",
     "text": [
      "\u001b[31mERROR\u001b[39m: unexpected error - [Errno 1] Operation not permitted\r\n",
      "\r\n",
      "\u001b[33mHaving any troubles?\u001b[39m Hit us up at \u001b[34mhttps://dvc.org/support\u001b[39m, we are always happy to help!\r\n",
      "Traceback (most recent call last):\r\n",
      "  File \"/Users/evgeniimunin/opt/anaconda3/bin/dvc\", line 8, in <module>\r\n",
      "    sys.exit(main())\r\n",
      "  File \"/Users/evgeniimunin/opt/anaconda3/lib/python3.8/site-packages/dvc/cli/__init__.py\", line 207, in main\r\n",
      "    if analytics.is_enabled():\r\n",
      "  File \"/Users/evgeniimunin/opt/anaconda3/lib/python3.8/site-packages/dvc/analytics.py\", line 50, in is_enabled\r\n",
      "    Config(validate=False).get(\"core\", {}).get(\"analytics\", \"true\")\r\n",
      "  File \"/Users/evgeniimunin/opt/anaconda3/lib/python3.8/site-packages/dvc/config.py\", line 99, in __init__\r\n",
      "    self.dvc_dir = Repo.find_dvc_dir()\r\n",
      "  File \"/Users/evgeniimunin/opt/anaconda3/lib/python3.8/site-packages/dvc/repo/__init__.py\", line 354, in find_dvc_dir\r\n",
      "    root_dir = cls.find_root(root)\r\n",
      "  File \"/Users/evgeniimunin/opt/anaconda3/lib/python3.8/site-packages/dvc/repo/__init__.py\", line 329, in find_root\r\n",
      "    root_dir = fs.path.realpath(root)\r\n",
      "  File \"/Users/evgeniimunin/opt/anaconda3/lib/python3.8/posixpath.py\", line 392, in realpath\r\n",
      "    return abspath(path)\r\n",
      "  File \"/Users/evgeniimunin/opt/anaconda3/lib/python3.8/posixpath.py\", line 379, in abspath\r\n",
      "    cwd = os.getcwd()\r\n",
      "PermissionError: [Errno 1] Operation not permitted\r\n",
      "\u001b[0m"
     ]
    }
   ],
   "source": [
    "# using dvc repro here\n",
    "! dvc repro train.dvc"
   ]
  },
  {
   "cell_type": "code",
   "execution_count": null,
   "id": "7b3b7abb",
   "metadata": {},
   "outputs": [],
   "source": [
    "!git commit -a -m \"bigram model\""
   ]
  },
  {
   "cell_type": "code",
   "execution_count": null,
   "id": "f17ddc92",
   "metadata": {},
   "outputs": [],
   "source": [
    "! git checkout baseline-experiment\n",
    "! dvc checkout"
   ]
  },
  {
   "cell_type": "markdown",
   "id": "da69c3c7",
   "metadata": {},
   "source": [
    "### Compare experiments\n",
    "DVC makes it easy to iterate on your project using Git commits with tags or Git branches. It provides a way to try different ideas, keep track of them, switch back and forth. To find the best performing experiment or track the progress, a special metric output type is supported in DVC (described in one of the previous steps)."
   ]
  },
  {
   "cell_type": "code",
   "execution_count": null,
   "id": "e114fdf3",
   "metadata": {},
   "outputs": [],
   "source": [
    "%%bash\n",
    "git checkout master\n",
    "dvc checkout\n",
    "dvc repro evaluate.dvc"
   ]
  },
  {
   "cell_type": "code",
   "execution_count": null,
   "id": "ba033c84",
   "metadata": {},
   "outputs": [],
   "source": [
    "%%bash\n",
    "git commit -a -m \"evaluate bigram model\"\n",
    "git tag -a \"bigram-experiment\" -m \"bigrams\""
   ]
  },
  {
   "cell_type": "code",
   "execution_count": null,
   "id": "59ec91cf",
   "metadata": {},
   "outputs": [],
   "source": [
    "!dvc metrics show -T"
   ]
  },
  {
   "cell_type": "markdown",
   "id": "543c2311",
   "metadata": {},
   "source": [
    "### Get older data files\n",
    "The answer is the dvc checkout command, and we already touched briefly the process of switching between different data versions in the Experiments step of this get started guide."
   ]
  },
  {
   "cell_type": "code",
   "execution_count": null,
   "id": "d3e46892",
   "metadata": {},
   "outputs": [],
   "source": [
    "! git checkout baseline-experiment train.dvc\n",
    "! dvc checkout train.dvc"
   ]
  },
  {
   "cell_type": "code",
   "execution_count": null,
   "id": "713b0072",
   "metadata": {},
   "outputs": [],
   "source": [
    "! git checkout baseline-experiment\n",
    "! dvc checkout"
   ]
  }
 ],
 "metadata": {
  "kernelspec": {
   "display_name": "Python 3",
   "language": "python",
   "name": "python3"
  },
  "language_info": {
   "codemirror_mode": {
    "name": "ipython",
    "version": 3
   },
   "file_extension": ".py",
   "mimetype": "text/x-python",
   "name": "python",
   "nbconvert_exporter": "python",
   "pygments_lexer": "ipython3",
   "version": "3.8.8"
  }
 },
 "nbformat": 4,
 "nbformat_minor": 5
}
